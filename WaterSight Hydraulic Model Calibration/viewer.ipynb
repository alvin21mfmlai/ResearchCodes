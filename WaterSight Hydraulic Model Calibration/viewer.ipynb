weekday_weekend_dict = dict()
weekday_weekend_dict[0] = 'Monday'
weekday_weekend_dict[1] = 'Tuesday'
weekday_weekend_dict[2] = 'Wednesday'
weekday_weekend_dict[3] = 'Thursday'
weekday_weekend_dict[4] = 'Friday'
weekday_weekend_dict[5] = 'Saturday'
weekday_weekend_dict[6] = 'Sunday'

weekday_weekend_baseDates_dict = dict()
weekday_weekend_baseDates_dict[0] = '1/1/2000'
weekday_weekend_baseDates_dict[1] = '2/1/2000'
weekday_weekend_baseDates_dict[2] = '3/1/2000'
weekday_weekend_baseDates_dict[3] = '4/1/2000'
weekday_weekend_baseDates_dict[4] = '5/1/2000'
weekday_weekend_baseDates_dict[5] = '6/1/2000'
weekday_weekend_baseDates_dict[6] = '7/1/2000'
